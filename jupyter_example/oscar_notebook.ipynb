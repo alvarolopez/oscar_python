{
 "cells": [
  {
   "cell_type": "markdown",
   "metadata": {},
   "source": [
    "### OSCAR API notebook example"
   ]
  },
  {
   "cell_type": "markdown",
   "metadata": {},
   "source": [
    "This notebook is a sample of the usage of the python API with jupyter notebooks step by step. You can modify the parameters in the code and the service to test it with your own OSCAR cluster.\n",
    "\n",
    "The first step is to install the package from Pypi."
   ]
  },
  {
   "cell_type": "code",
   "execution_count": 1,
   "metadata": {
    "collapsed": true,
    "jupyter": {
     "outputs_hidden": true
    },
    "tags": []
   },
   "outputs": [
    {
     "name": "stdout",
     "output_type": "stream",
     "text": [
      "Requirement already satisfied: oscar-python in /home/caterina/.local/lib/python3.9/site-packages (1.0.2)\n",
      "Requirement already satisfied: requests in /usr/lib/python3/dist-packages (from oscar-python) (2.25.1)\n",
      "Requirement already satisfied: setuptools>=40.8.0 in /usr/lib/python3/dist-packages (from oscar-python) (52.0.0)\n",
      "Requirement already satisfied: aiohttp in /home/caterina/.local/lib/python3.9/site-packages (from oscar-python) (3.8.1)\n",
      "Requirement already satisfied: webdavclient3==3.14.6 in /home/caterina/.local/lib/python3.9/site-packages (from oscar-python) (3.14.6)\n",
      "Requirement already satisfied: boto3 in /home/caterina/.local/lib/python3.9/site-packages (from oscar-python) (1.24.0)\n",
      "Requirement already satisfied: pyyaml in /usr/lib/python3/dist-packages (from oscar-python) (5.3.1)\n",
      "Requirement already satisfied: lxml in /home/caterina/.local/lib/python3.9/site-packages (from webdavclient3==3.14.6->oscar-python) (4.9.0)\n",
      "Requirement already satisfied: python-dateutil in /home/caterina/.local/lib/python3.9/site-packages (from webdavclient3==3.14.6->oscar-python) (2.8.2)\n",
      "Requirement already satisfied: charset-normalizer<3.0,>=2.0 in /home/caterina/.local/lib/python3.9/site-packages (from aiohttp->oscar-python) (2.1.1)\n",
      "Requirement already satisfied: async-timeout<5.0,>=4.0.0a3 in /home/caterina/.local/lib/python3.9/site-packages (from aiohttp->oscar-python) (4.0.2)\n",
      "Requirement already satisfied: multidict<7.0,>=4.5 in /home/caterina/.local/lib/python3.9/site-packages (from aiohttp->oscar-python) (6.0.2)\n",
      "Requirement already satisfied: yarl<2.0,>=1.0 in /home/caterina/.local/lib/python3.9/site-packages (from aiohttp->oscar-python) (1.8.1)\n",
      "Requirement already satisfied: aiosignal>=1.1.2 in /home/caterina/.local/lib/python3.9/site-packages (from aiohttp->oscar-python) (1.2.0)\n",
      "Requirement already satisfied: frozenlist>=1.1.1 in /home/caterina/.local/lib/python3.9/site-packages (from aiohttp->oscar-python) (1.3.1)\n",
      "Requirement already satisfied: attrs>=17.3.0 in /usr/local/lib/python3.9/dist-packages (from aiohttp->oscar-python) (21.4.0)\n",
      "Requirement already satisfied: idna>=2.0 in /usr/lib/python3/dist-packages (from yarl<2.0,>=1.0->aiohttp->oscar-python) (2.10)\n",
      "Requirement already satisfied: jmespath<2.0.0,>=0.7.1 in /home/caterina/.local/lib/python3.9/site-packages (from boto3->oscar-python) (1.0.0)\n",
      "Requirement already satisfied: botocore<1.28.0,>=1.27.0 in /home/caterina/.local/lib/python3.9/site-packages (from boto3->oscar-python) (1.27.28)\n",
      "Requirement already satisfied: s3transfer<0.7.0,>=0.6.0 in /home/caterina/.local/lib/python3.9/site-packages (from boto3->oscar-python) (0.6.0)\n",
      "Requirement already satisfied: urllib3<1.27,>=1.25.4 in /usr/lib/python3/dist-packages (from botocore<1.28.0,>=1.27.0->boto3->oscar-python) (1.26.5)\n",
      "Requirement already satisfied: six>=1.5 in /usr/lib/python3/dist-packages (from python-dateutil->webdavclient3==3.14.6->oscar-python) (1.16.0)\n"
     ]
    }
   ],
   "source": [
    "# Install oscar-python package in the current Jupyter kernel\n",
    "import sys\n",
    "!{sys.executable} -m pip install oscar-python"
   ]
  },
  {
   "cell_type": "markdown",
   "metadata": {},
   "source": [
    "With the package installed you can now create the client with your cluster credentials, enpoint and ID or cluster name."
   ]
  },
  {
   "cell_type": "code",
   "execution_count": 2,
   "metadata": {},
   "outputs": [],
   "source": [
    "# Import oscar_python library\n",
    "from oscar_python.client import Client\n",
    "\n",
    "client = Client(\"cluster-id\",\"https://your-cluster-endpoint.net\", \"user\", \"password\", True)"
   ]
  },
  {
   "cell_type": "markdown",
   "metadata": {},
   "source": [
    "Once the client is created, you can call the function `create_service` with the path to the FDL file wich contains the function definition. To make it easier we recommend to have a folder for each service with their respective fdl and script within the path of the jupyter notebook. \n",
    "\n",
    "Also, the cluster ID on the FDL file has to match the one provided on the client definition, otherwise the function will throw an exception."
   ]
  },
  {
   "cell_type": "code",
   "execution_count": 3,
   "metadata": {
    "collapsed": true,
    "jupyter": {
     "outputs_hidden": true
    },
    "tags": []
   },
   "outputs": [
    {
     "name": "stderr",
     "output_type": "stream",
     "text": [
      "/usr/lib/python3/dist-packages/urllib3/connectionpool.py:1015: InsecureRequestWarning: Unverified HTTPS request is being made to host 'localhost'. Adding certificate verification is strongly advised. See: https://urllib3.readthedocs.io/en/latest/advanced-usage.html#ssl-warnings\n",
      "  warnings.warn(\n"
     ]
    },
    {
     "name": "stdout",
     "output_type": "stream",
     "text": [
      "Service created!\n"
     ]
    }
   ],
   "source": [
    "# Create a service with the function create_service, which returns an error if something goes wrong or nothing if the service is created correctly\n",
    "err = client.create_service(\"services/cowsay_example/cowsay.yaml\")\n",
    "if not err:\n",
    "    print(\"Service created!\")"
   ]
  },
  {
   "cell_type": "markdown",
   "metadata": {},
   "source": [
    "Then, you can run a synchronous invocation with the function `run_service` and the input parameters that the function requires."
   ]
  },
  {
   "cell_type": "code",
   "execution_count": 4,
   "metadata": {
    "collapsed": true,
    "jupyter": {
     "outputs_hidden": true
    },
    "tags": []
   },
   "outputs": [
    {
     "name": "stderr",
     "output_type": "stream",
     "text": [
      "/usr/lib/python3/dist-packages/urllib3/connectionpool.py:1015: InsecureRequestWarning: Unverified HTTPS request is being made to host 'localhost'. Adding certificate verification is strongly advised. See: https://urllib3.readthedocs.io/en/latest/advanced-usage.html#ssl-warnings\n",
      "  warnings.warn(\n",
      "/usr/lib/python3/dist-packages/urllib3/connectionpool.py:1015: InsecureRequestWarning: Unverified HTTPS request is being made to host 'localhost'. Adding certificate verification is strongly advised. See: https://urllib3.readthedocs.io/en/latest/advanced-usage.html#ssl-warnings\n",
      "  warnings.warn(\n"
     ]
    },
    {
     "name": "stdout",
     "output_type": "stream",
     "text": [
      " __________\n",
      "< Hi there >\n",
      " ----------\n",
      "        \\   ^__^\n",
      "         \\  (oo)\\_______\n",
      "            (__)\\       )\\/\\\n",
      "                ||----w |\n",
      "                ||     ||\n",
      "\n",
      "\n"
     ]
    }
   ],
   "source": [
    "# Test the synchronous invocation of the service\n",
    "res = client.run_service(\"cowsay\", input = '{\"message\": \"Hi there\"}')\n",
    "if res.status_code == 200:\n",
    "    print(res.text)"
   ]
  },
  {
   "cell_type": "code",
   "execution_count": null,
   "metadata": {},
   "outputs": [],
   "source": []
  }
 ],
 "metadata": {
  "interpreter": {
   "hash": "31f2aee4e71d21fbe5cf8b01ff0e069b9275f58929596ceb00d14d90e3e16cd6"
  },
  "kernelspec": {
   "display_name": "Python 3 (ipykernel)",
   "language": "python",
   "name": "python3"
  },
  "language_info": {
   "codemirror_mode": {
    "name": "ipython",
    "version": 3
   },
   "file_extension": ".py",
   "mimetype": "text/x-python",
   "name": "python",
   "nbconvert_exporter": "python",
   "pygments_lexer": "ipython3",
   "version": "3.9.7"
  }
 },
 "nbformat": 4,
 "nbformat_minor": 4
}
